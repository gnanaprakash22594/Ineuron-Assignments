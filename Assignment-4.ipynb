{
 "cells": [
  {
   "cell_type": "code",
   "execution_count": 28,
   "id": "2eb2438f",
   "metadata": {},
   "outputs": [
    {
     "name": "stdout",
     "output_type": "stream",
     "text": [
      "6.0\n",
      "Area of triangle = 6.0\n"
     ]
    }
   ],
   "source": [
    "#1.1\n",
    "class Triangle:\n",
    " def __init__(self, side1, side2, side3):\n",
    "  self.side1 = side1\n",
    "  self.side2 = side2\n",
    "  self.side3 = side3\n",
    "\n",
    "class Triangle_User(Triangle):\n",
    " \n",
    " def __init__(self, side1, side2, side3):\n",
    "  super(Triangle_User, self).__init__(side1, side2, side3)\n",
    "\n",
    " def area(self):\n",
    "  s = (self.side1 + self.side2 + self.side3)/2\n",
    "  print (str(s))\n",
    "  return (s*(s-self.side1)*(s-self.side2)*(s-self.side3))**0.5\n",
    "\n",
    "instance = Triangle_User(3,4,5)\n",
    "print(\"Area of triangle = \" + str(instance.area()) )"
   ]
  },
  {
   "cell_type": "code",
   "execution_count": null,
   "id": "9ea0b3b7",
   "metadata": {},
   "outputs": [],
   "source": [
    "#1.2\n",
    "def filter_long_words(word_list,n):\n",
    "    \n",
    "    Wordlist=[i.strip() for i in word_list if len(i.strip())>n]\n",
    "    \n",
    "    if(len(Wordlist)>0):\n",
    "        print(\"Words longer than \"+str(n)+\":\" + str(Wordlist))\n",
    "    else:\n",
    "        return \"No words longer than specified number\"+str(n)\n",
    "    \n",
    "my_list= input(\"Please enter your words: \")\n",
    "my_number= int(input(\"Please enter your number: \"))\n",
    "\n",
    "list_Of_Words = list(my_list.split(\",\"))\n",
    "\n",
    "filter_long_words(list_Of_Words,my_number)"
   ]
  },
  {
   "cell_type": "code",
   "execution_count": null,
   "id": "f2690461",
   "metadata": {},
   "outputs": [],
   "source": [
    "#2.1\n",
    "def vowel_checker(input_value):\n",
    "    if(len(input_value) == 1):\n",
    "        vowels = [\"a\",\"e\",\"i\",\"o\",\"u\"]\n",
    "        if input_value.lower() in vowels:\n",
    "            print(\"True\")\n",
    "        else:\n",
    "            print(\"False\")\n",
    "    else:\n",
    "        print(\"enter a string of length 1\")\n",
    "\n",
    "user_input = input(\"enter a character to check if it's vowel or not:\")\n",
    "vowel_checker(user_input)"
   ]
  },
  {
   "cell_type": "code",
   "execution_count": null,
   "id": "d33a8b9c",
   "metadata": {},
   "outputs": [],
   "source": [
    "#2.2\n",
    "def word_len(list):\n",
    "    length = []\n",
    "    for i in my_list:\n",
    "        length.append(len(i))\n",
    "    print(length)\n",
    "\n",
    "my_list = list(input(\"Please enter words:\").split(\",\"))\n",
    "word_len(my_list)\n",
    "        "
   ]
  }
 ],
 "metadata": {
  "kernelspec": {
   "display_name": "Python 3",
   "language": "python",
   "name": "python3"
  },
  "language_info": {
   "codemirror_mode": {
    "name": "ipython",
    "version": 3
   },
   "file_extension": ".py",
   "mimetype": "text/x-python",
   "name": "python",
   "nbconvert_exporter": "python",
   "pygments_lexer": "ipython3",
   "version": "3.8.8"
  }
 },
 "nbformat": 4,
 "nbformat_minor": 5
}
